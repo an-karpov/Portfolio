{
 "cells": [
  {
   "cell_type": "code",
   "execution_count": 1031,
   "metadata": {},
   "outputs": [],
   "source": [
    "import pandas as pd\n",
    "import numpy as np\n",
    "#import geopandas\n",
    "import sqlalchemy\n",
    "import seaborn as sns\n",
    "from clickhouse_driver import Client\n",
    "#from keplergl import KeplerGl\n",
    "import plotly.express as ps\n",
    "import datetime\n",
    "import seaborn as sns\n",
    "import matplotlib.pyplot as plt\n",
    "import plotly.graph_objs as go\n",
    "from plotly.offline import download_plotlyjs, init_notebook_mode, plot, iplot\n",
    "from plotly import tools\n",
    "from plotly.subplots import make_subplots\n",
    "import plotly.express as px\n",
    "from geopy.geocoders import Nominatim\n",
    "from sklearn.cluster import KMeans\n",
    "import h3"
   ]
  },
  {
   "cell_type": "code",
   "execution_count": 1032,
   "metadata": {},
   "outputs": [],
   "source": [
    "airbnb_ratings_new = pd.read_csv('airbnb_ratings_new.csv', encoding=\"CP866\", low_memory=False)\n",
    "LA_Listings = pd.read_csv('LA_Listings.csv', encoding=\"CP866\", low_memory=False)\n",
    "NY_Listings = pd.read_csv('NY_Listings.csv', encoding=\"CP866\", low_memory=False)"
   ]
  },
  {
   "cell_type": "markdown",
   "metadata": {},
   "source": [
    "## Решение"
   ]
  },
  {
   "cell_type": "code",
   "execution_count": 1044,
   "metadata": {},
   "outputs": [
    {
     "data": {
      "text/plain": [
       "Index(['Listing ID', 'Name', 'Host ID', 'Host Name', 'Host Response Rate',\n",
       "       'Host Is Superhost', 'Host total listings count', 'Street', 'City',\n",
       "       'Neighbourhood cleansed', 'State', 'Country', 'latitude', 'longitude',\n",
       "       'Property type', 'Room type', 'Accommodates', 'Bathrooms', 'Bedrooms',\n",
       "       'Amenities', 'Price', 'Minimum nights', 'Maximum nights',\n",
       "       'Availability 365', 'Calendar last scraped', 'Number of reviews',\n",
       "       'Last Review Date', 'Review Scores Rating', 'Review Scores Accuracy',\n",
       "       'Review Scores Cleanliness', 'Review Scores Checkin',\n",
       "       'Review Scores Communication', 'Review Scores Location',\n",
       "       'Review Scores Value', 'Reviews per month'],\n",
       "      dtype='object')"
      ]
     },
     "execution_count": 1044,
     "metadata": {},
     "output_type": "execute_result"
    }
   ],
   "source": [
    "Listings = pd.read_csv('NY_Listings.csv', encoding=\"CP866\", low_memory=False)\n",
    "Listings.dropna(axis='index', how='any')\n",
    "Listings.columns"
   ]
  },
  {
   "cell_type": "markdown",
   "metadata": {},
   "source": [
    "Подготовим данные"
   ]
  },
  {
   "cell_type": "code",
   "execution_count": 1045,
   "metadata": {},
   "outputs": [],
   "source": [
    "Listings = Listings.dropna(axis='index', how='any') # удаляем объявления с пропусками в данных\n",
    "Listings = Listings[Listings['Review Scores Rating'] != 0] # удаляем объявления без оценок\n",
    "Listings = Listings[Listings['Review Scores Rating'] <= 100] # удаляем выбросы\n",
    "Listings = Listings[Listings['Number of reviews'] > 1] # удаляем объявления без отзывов"
   ]
  },
  {
   "cell_type": "code",
   "execution_count": 1046,
   "metadata": {},
   "outputs": [],
   "source": [
    "data1 = Listings[Listings['Host Is Superhost'] == 0] # обычные пользователи\n",
    "data2 = Listings[Listings['Host Is Superhost'] == 1] # суперхосты"
   ]
  },
  {
   "cell_type": "markdown",
   "metadata": {},
   "source": [
    "Посмотрим на рейтинги отзывов суперхостов и обычных пользователей"
   ]
  },
  {
   "cell_type": "code",
   "execution_count": 1047,
   "metadata": {},
   "outputs": [
    {
     "data": {
      "image/png": "[encoded data removed]",
      "text/plain": [
       "<Figure size 1440x432 with 2 Axes>"
      ]
     },
     "metadata": {},
     "output_type": "display_data"
    }
   ],
   "source": [
    "plt.figure(figsize=(20,6))\n",
    "\n",
    "plt.subplot(1, 2, 1)\n",
    "m1 = data1['Review Scores Rating'].mean();\n",
    "plt.axvline(m1, color='k', linestyle='dashed', label = 'mean = ' + str(round(m1, 2)))\n",
    "data1['Review Scores Rating'].plot.hist(grid=True, bins=40, rwidth=10, color='turquoise', label = 'Review Rating (not superhost)')\n",
    "plt.legend()\n",
    "\n",
    "plt.subplot(1, 2, 2)\n",
    "m2 = data2['Review Scores Rating'].mean()\n",
    "plt.axvline(m2, color='k', linestyle='dashed', label = 'mean = ' + str(round(m2, 2)))\n",
    "data2['Review Scores Rating'].plot.hist(grid=True, bins=40, rwidth=10, label = 'Review Rating (superhost)')\n",
    "plt.legend()\n",
    "\n",
    "plt.show()"
   ]
  },
  {
   "cell_type": "markdown",
   "metadata": {},
   "source": [
    "## Гипотеза 1 "
   ]
  },
  {
   "cell_type": "markdown",
   "metadata": {},
   "source": [
    "Статус суперхоста дает приемущество при сдаче квартиры на AirB&b. Следовательно, клиенты, имеющие такой статус, заинтересованны продолжать работать с нами.\n",
    "Будем стимулировать обычных пользователей с большим рейтингом (потенциальных суперхостов), а также суерхостов с низким рейтингом пользоваться нашими услугами. "
   ]
  },
  {
   "cell_type": "code",
   "execution_count": 1048,
   "metadata": {},
   "outputs": [],
   "source": [
    "result = pd.concat([data1, data2])"
   ]
  },
  {
   "cell_type": "markdown",
   "metadata": {},
   "source": [
    "Выбираем интересующие нас данные, которые влияют на потенциальную \"доходность\" клиента:"
   ]
  },
  {
   "cell_type": "code",
   "execution_count": 1049,
   "metadata": {},
   "outputs": [],
   "source": [
    "data = pd.DataFrame()\n",
    "\n",
    "data['listing_id'] = result['Listing ID']\n",
    "data['host_id'] = result['Host ID']\n",
    "data['superhost'] = result['Host Is Superhost']\n",
    "data['availability'] = result['Availability 365']\n",
    "data['price'] = result['Price']\n",
    "data['min_nights'] = result['Minimum nights']\n",
    "data['reviews_per_month'] = result['Reviews per month']\n",
    "\n",
    "data['last_rewiew'] = result['Last Review Date']"
   ]
  },
  {
   "cell_type": "markdown",
   "metadata": {},
   "source": [
    "Вычислим количество дней, которое прошло со времени написания последнего отзыва"
   ]
  },
  {
   "cell_type": "code",
   "execution_count": 1050,
   "metadata": {},
   "outputs": [],
   "source": [
    "data['last_rewiew'] = pd.to_datetime(data['last_rewiew'].str.split('/').str.join('-')) # делаем dd-mm-yyyy\n",
    "\n",
    "max_date = data['last_rewiew'].max()\n",
    "data['last_rewiew'] = (max_date - data['last_rewiew']).dt.days # считаем, что последний отзыв написали сегодня"
   ]
  },
  {
   "cell_type": "markdown",
   "metadata": {},
   "source": [
    "## Occupancy"
   ]
  },
  {
   "cell_type": "markdown",
   "metadata": {},
   "source": [
    "Вычислим \"занятость\" сдаваемого объекта: occupancy = ((reviews per month * min. nights) * 12) / availability_365"
   ]
  },
  {
   "cell_type": "code",
   "execution_count": 1051,
   "metadata": {},
   "outputs": [],
   "source": [
    "data['occupancy'] = (data['reviews_per_month'] * data['min_nights'] * 12) / data['availability']"
   ]
  },
  {
   "cell_type": "markdown",
   "metadata": {},
   "source": [
    "Ограничим это значение сверху единицей (что логично)"
   ]
  },
  {
   "cell_type": "code",
   "execution_count": 1052,
   "metadata": {},
   "outputs": [],
   "source": [
    "data = data.replace(np.inf, 1) # для квартир, занятых все дни в году\n",
    "data['occupancy'] = np.where(data['occupancy'] > 1, 1, data['occupancy']) # слишком большое кол-во отзывов"
   ]
  },
  {
   "cell_type": "markdown",
   "metadata": {},
   "source": [
    "Удаляем ненужное"
   ]
  },
  {
   "cell_type": "code",
   "execution_count": 1053,
   "metadata": {},
   "outputs": [],
   "source": [
    "data = data.drop(['reviews_per_month'],axis = 1)\n",
    "data = data.drop(['min_nights'],axis = 1)\n",
    "data = data.drop(['availability'],axis = 1)"
   ]
  },
  {
   "cell_type": "markdown",
   "metadata": {},
   "source": [
    "Посмотрим на наш датасет:"
   ]
  },
  {
   "cell_type": "code",
   "execution_count": 977,
   "metadata": {},
   "outputs": [
    {
     "data": {
      "text/html": [
       "<div>\n",
       "<style scoped>\n",
       "    .dataframe tbody tr th:only-of-type {\n",
       "        vertical-align: middle;\n",
       "    }\n",
       "\n",
       "    .dataframe tbody tr th {\n",
       "        vertical-align: top;\n",
       "    }\n",
       "\n",
       "    .dataframe thead th {\n",
       "        text-align: right;\n",
       "    }\n",
       "</style>\n",
       "<table border=\"1\" class=\"dataframe\">\n",
       "  <thead>\n",
       "    <tr style=\"text-align: right;\">\n",
       "      <th></th>\n",
       "      <th>listing_id</th>\n",
       "      <th>host_id</th>\n",
       "      <th>superhost</th>\n",
       "      <th>price</th>\n",
       "      <th>last_rewiew</th>\n",
       "      <th>occupancy</th>\n",
       "    </tr>\n",
       "  </thead>\n",
       "  <tbody>\n",
       "    <tr>\n",
       "      <th>7</th>\n",
       "      <td>17545953</td>\n",
       "      <td>74732009</td>\n",
       "      <td>False</td>\n",
       "      <td>135</td>\n",
       "      <td>41</td>\n",
       "      <td>0.091948</td>\n",
       "    </tr>\n",
       "    <tr>\n",
       "      <th>9</th>\n",
       "      <td>10513135</td>\n",
       "      <td>47987624</td>\n",
       "      <td>False</td>\n",
       "      <td>56</td>\n",
       "      <td>7</td>\n",
       "      <td>0.909000</td>\n",
       "    </tr>\n",
       "    <tr>\n",
       "      <th>13</th>\n",
       "      <td>4432082</td>\n",
       "      <td>22994518</td>\n",
       "      <td>False</td>\n",
       "      <td>45</td>\n",
       "      <td>61</td>\n",
       "      <td>0.035604</td>\n",
       "    </tr>\n",
       "    <tr>\n",
       "      <th>15</th>\n",
       "      <td>16578740</td>\n",
       "      <td>74732009</td>\n",
       "      <td>False</td>\n",
       "      <td>115</td>\n",
       "      <td>83</td>\n",
       "      <td>0.041770</td>\n",
       "    </tr>\n",
       "    <tr>\n",
       "      <th>18</th>\n",
       "      <td>15146736</td>\n",
       "      <td>49559491</td>\n",
       "      <td>False</td>\n",
       "      <td>65</td>\n",
       "      <td>24</td>\n",
       "      <td>0.013479</td>\n",
       "    </tr>\n",
       "  </tbody>\n",
       "</table>\n",
       "</div>"
      ],
      "text/plain": [
       "    listing_id   host_id  superhost  price  last_rewiew  occupancy\n",
       "7     17545953  74732009      False    135           41   0.091948\n",
       "9     10513135  47987624      False     56            7   0.909000\n",
       "13     4432082  22994518      False     45           61   0.035604\n",
       "15    16578740  74732009      False    115           83   0.041770\n",
       "18    15146736  49559491      False     65           24   0.013479"
      ]
     },
     "execution_count": 977,
     "metadata": {},
     "output_type": "execute_result"
    }
   ],
   "source": [
    "data.head()"
   ]
  },
  {
   "cell_type": "markdown",
   "metadata": {},
   "source": [
    "## RFM-анализ"
   ]
  },
  {
   "cell_type": "code",
   "execution_count": 978,
   "metadata": {},
   "outputs": [],
   "source": [
    "def RScore(x,p,d):\n",
    "    if x <= d[p][0.2]:\n",
    "        return 5\n",
    "    elif x <= d[p][0.4]:\n",
    "        return 4\n",
    "    elif x <= d[p][0.6]: \n",
    "        return 3\n",
    "    elif x <= d[p][0.8]: \n",
    "        return 2\n",
    "    else:\n",
    "        return 1\n",
    "    \n",
    "def FMScore(x,p,d):\n",
    "    if x <= d[p][0.2]:\n",
    "        return 1\n",
    "    elif x <= d[p][0.4]:\n",
    "        return 2\n",
    "    elif x <= d[p][0.6]: \n",
    "        return 3\n",
    "    elif x <= d[p][0.8]: \n",
    "        return 4\n",
    "    else:\n",
    "        return 5"
   ]
  },
  {
   "cell_type": "code",
   "execution_count": 979,
   "metadata": {},
   "outputs": [
    {
     "data": {
      "text/plain": [
       "{'listing_id': {0.2: 4033738.1999999997,\n",
       "  0.4: 8367470.0,\n",
       "  0.6: 12901418.0,\n",
       "  0.8: 15546050.200000001},\n",
       " 'host_id': {0.2: 4460269.400000002,\n",
       "  0.4: 13716757.0,\n",
       "  0.6: 30799561.599999994,\n",
       "  0.8: 59521112.000000015},\n",
       " 'superhost': {0.2: 0.0, 0.4: 0.0, 0.6: 0.0, 0.8: 1.0},\n",
       " 'price': {0.2: 60.0, 0.4: 89.0, 0.6: 120.0, 0.8: 180.0},\n",
       " 'last_rewiew': {0.2: 8.0, 0.4: 17.0, 0.6: 32.0, 0.8: 101.0},\n",
       " 'occupancy': {0.2: 0.05665168539325843,\n",
       "  0.4: 0.1342487646777536,\n",
       "  0.6: 0.2633132990750257,\n",
       "  0.8: 0.6729122807017553}}"
      ]
     },
     "execution_count": 979,
     "metadata": {},
     "output_type": "execute_result"
    }
   ],
   "source": [
    "quantiles = data.quantile(q=[0.2,0.4,0.6,0.8]).to_dict()\n",
    "quantiles"
   ]
  },
  {
   "cell_type": "code",
   "execution_count": 980,
   "metadata": {},
   "outputs": [],
   "source": [
    "data['r_quartile'] = data['last_rewiew'].apply(RScore, args=('last_rewiew',quantiles,))\n",
    "data['f_quartile'] = data['occupancy'].apply(FMScore, args=('occupancy',quantiles,))\n",
    "data['m_quartile'] = data['price'].apply(FMScore, args=('price',quantiles,))"
   ]
  },
  {
   "cell_type": "code",
   "execution_count": 981,
   "metadata": {},
   "outputs": [
    {
     "data": {
      "text/html": [
       "<div>\n",
       "<style scoped>\n",
       "    .dataframe tbody tr th:only-of-type {\n",
       "        vertical-align: middle;\n",
       "    }\n",
       "\n",
       "    .dataframe tbody tr th {\n",
       "        vertical-align: top;\n",
       "    }\n",
       "\n",
       "    .dataframe thead th {\n",
       "        text-align: right;\n",
       "    }\n",
       "</style>\n",
       "<table border=\"1\" class=\"dataframe\">\n",
       "  <thead>\n",
       "    <tr style=\"text-align: right;\">\n",
       "      <th></th>\n",
       "      <th>listing_id</th>\n",
       "      <th>host_id</th>\n",
       "      <th>superhost</th>\n",
       "      <th>RFM_Score</th>\n",
       "    </tr>\n",
       "  </thead>\n",
       "  <tbody>\n",
       "    <tr>\n",
       "      <th>7</th>\n",
       "      <td>17545953</td>\n",
       "      <td>74732009</td>\n",
       "      <td>False</td>\n",
       "      <td>8</td>\n",
       "    </tr>\n",
       "    <tr>\n",
       "      <th>9</th>\n",
       "      <td>10513135</td>\n",
       "      <td>47987624</td>\n",
       "      <td>False</td>\n",
       "      <td>11</td>\n",
       "    </tr>\n",
       "    <tr>\n",
       "      <th>13</th>\n",
       "      <td>4432082</td>\n",
       "      <td>22994518</td>\n",
       "      <td>False</td>\n",
       "      <td>4</td>\n",
       "    </tr>\n",
       "    <tr>\n",
       "      <th>15</th>\n",
       "      <td>16578740</td>\n",
       "      <td>74732009</td>\n",
       "      <td>False</td>\n",
       "      <td>6</td>\n",
       "    </tr>\n",
       "    <tr>\n",
       "      <th>18</th>\n",
       "      <td>15146736</td>\n",
       "      <td>49559491</td>\n",
       "      <td>False</td>\n",
       "      <td>6</td>\n",
       "    </tr>\n",
       "    <tr>\n",
       "      <th>...</th>\n",
       "      <td>...</td>\n",
       "      <td>...</td>\n",
       "      <td>...</td>\n",
       "      <td>...</td>\n",
       "    </tr>\n",
       "    <tr>\n",
       "      <th>31120</th>\n",
       "      <td>7026362</td>\n",
       "      <td>31622133</td>\n",
       "      <td>True</td>\n",
       "      <td>4</td>\n",
       "    </tr>\n",
       "    <tr>\n",
       "      <th>31130</th>\n",
       "      <td>4251124</td>\n",
       "      <td>22060067</td>\n",
       "      <td>True</td>\n",
       "      <td>8</td>\n",
       "    </tr>\n",
       "    <tr>\n",
       "      <th>31135</th>\n",
       "      <td>7182074</td>\n",
       "      <td>37059770</td>\n",
       "      <td>True</td>\n",
       "      <td>7</td>\n",
       "    </tr>\n",
       "    <tr>\n",
       "      <th>31137</th>\n",
       "      <td>10920578</td>\n",
       "      <td>1381694</td>\n",
       "      <td>True</td>\n",
       "      <td>7</td>\n",
       "    </tr>\n",
       "    <tr>\n",
       "      <th>31141</th>\n",
       "      <td>12658726</td>\n",
       "      <td>68769072</td>\n",
       "      <td>True</td>\n",
       "      <td>11</td>\n",
       "    </tr>\n",
       "  </tbody>\n",
       "</table>\n",
       "<p>19314 rows × 4 columns</p>\n",
       "</div>"
      ],
      "text/plain": [
       "       listing_id   host_id  superhost  RFM_Score\n",
       "7        17545953  74732009      False          8\n",
       "9        10513135  47987624      False         11\n",
       "13        4432082  22994518      False          4\n",
       "15       16578740  74732009      False          6\n",
       "18       15146736  49559491      False          6\n",
       "...           ...       ...        ...        ...\n",
       "31120     7026362  31622133       True          4\n",
       "31130     4251124  22060067       True          8\n",
       "31135     7182074  37059770       True          7\n",
       "31137    10920578   1381694       True          7\n",
       "31141    12658726  68769072       True         11\n",
       "\n",
       "[19314 rows x 4 columns]"
      ]
     },
     "execution_count": 981,
     "metadata": {},
     "output_type": "execute_result"
    }
   ],
   "source": [
    "data['RFM_Score'] = data['r_quartile'] + data['f_quartile'] + data['m_quartile']\n",
    "data = data.drop(['r_quartile'],axis = 1)\n",
    "data = data.drop(['f_quartile'],axis = 1)\n",
    "data = data.drop(['m_quartile'],axis = 1)\n",
    "data = data.drop(['last_rewiew'],axis = 1)\n",
    "data = data.drop(['occupancy'],axis = 1)\n",
    "data = data.drop(['price'],axis = 1)\n",
    "data"
   ]
  },
  {
   "cell_type": "markdown",
   "metadata": {},
   "source": [
    "Посмотрим, на результаты анализа:"
   ]
  },
  {
   "cell_type": "code",
   "execution_count": 982,
   "metadata": {},
   "outputs": [
    {
     "data": {
      "text/plain": [
       "<seaborn.axisgrid.FacetGrid at 0x200ab166708>"
      ]
     },
     "execution_count": 982,
     "metadata": {},
     "output_type": "execute_result"
    },
    {
     "data": {
      "image/png": "[encoded data removed]",
      "text/plain": [
       "<Figure size 432x432 with 1 Axes>"
      ]
     },
     "metadata": {},
     "output_type": "display_data"
    }
   ],
   "source": [
    "sns.catplot(x=\"RFM_Score\", kind=\"count\",color='turquoise', data=data, height = 6)"
   ]
  },
  {
   "cell_type": "markdown",
   "metadata": {},
   "source": [
    "Предоставим скидку клиентам, имеющим RFM_Score сдаваемого объекта больше 11"
   ]
  },
  {
   "cell_type": "code",
   "execution_count": 998,
   "metadata": {},
   "outputs": [],
   "source": [
    "id_discont = data[data['RFM_Score'] > 11]['host_id']"
   ]
  },
  {
   "cell_type": "code",
   "execution_count": 999,
   "metadata": {},
   "outputs": [
    {
     "data": {
      "text/plain": [
       "3945"
      ]
     },
     "execution_count": 999,
     "metadata": {},
     "output_type": "execute_result"
    }
   ],
   "source": [
    "len(id_discont) # всего объектов, имеющих RFM_Score > 11"
   ]
  },
  {
   "cell_type": "code",
   "execution_count": 1001,
   "metadata": {},
   "outputs": [
    {
     "data": {
      "text/plain": [
       "3055"
      ]
     },
     "execution_count": 1001,
     "metadata": {},
     "output_type": "execute_result"
    }
   ],
   "source": [
    "id_discont.nunique() # всего клиентов получили скидку"
   ]
  },
  {
   "cell_type": "code",
   "execution_count": 1002,
   "metadata": {},
   "outputs": [],
   "source": [
    "All_Listings = pd.read_csv('LA_Listings.csv', encoding=\"CP866\", low_memory=False)"
   ]
  },
  {
   "cell_type": "code",
   "execution_count": 1003,
   "metadata": {},
   "outputs": [
    {
     "data": {
      "text/plain": [
       "0.08764380181885992"
      ]
     },
     "execution_count": 1003,
     "metadata": {},
     "output_type": "execute_result"
    }
   ],
   "source": [
    "id_discont.nunique() / All_Listings['Host ID'].nunique()"
   ]
  },
  {
   "cell_type": "code",
   "execution_count": null,
   "metadata": {},
   "outputs": [],
   "source": []
  }
 ],
 "metadata": {
  "kernelspec": {
   "display_name": "Python 3 (ipykernel)",
   "language": "python",
   "name": "python3"
  },
  "language_info": {
   "codemirror_mode": {
    "name": "ipython",
    "version": 3
   },
   "file_extension": ".py",
   "mimetype": "text/x-python",
   "name": "python",
   "nbconvert_exporter": "python",
   "pygments_lexer": "ipython3",
   "version": "3.9.7"
  }
 },
 "nbformat": 4,
 "nbformat_minor": 4
}
