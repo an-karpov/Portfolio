{
 "cells": [
  {
   "cell_type": "markdown",
   "id": "b10e3cfa-6062-44ee-b9ad-1a41a026dc6c",
   "metadata": {},
   "source": [
    "**Описание:** Файл для теста моделей, их оптимизации и поиска оптимальных признаков"
   ]
  },
  {
   "cell_type": "code",
   "execution_count": 196,
   "id": "6f9af751-6b8d-4082-bd2b-855303d1ac07",
   "metadata": {},
   "outputs": [],
   "source": [
    "from typing import List\n",
    "\n",
    "import numpy as np\n",
    "import pandas as pd\n",
    "import seaborn as sns\n",
    "import matplotlib.pyplot as plt\n",
    "\n",
    "# processing\n",
    "from sklearn.model_selection import train_test_split, cross_val_score, GridSearchCV\n",
    "from sklearn.pipeline import Pipeline\n",
    "from sklearn.compose import ColumnTransformer\n",
    "from sklearn.preprocessing import LabelEncoder, MinMaxScaler, RobustScaler, Normalizer\n",
    "from sklearn.metrics import classification_report, confusion_matrix, precision_score, recall_score, f1_score, roc_auc_score, roc_curve\n",
    "\n",
    "# models\n",
    "from sklearn.linear_model import LogisticRegression\n",
    "from xgboost import XGBClassifier, plot_importance\n",
    "\n",
    "# saving model\n",
    "import pickle"
   ]
  },
  {
   "cell_type": "code",
   "execution_count": 224,
   "id": "22d7ca5e-bf3b-4e90-9c53-5b44d0e0086d",
   "metadata": {},
   "outputs": [
    {
     "data": {
      "text/html": [
       "<details>\n",
       "<summary>Click to view session information</summary>\n",
       "<pre>\n",
       "-----\n",
       "hyperopt            0.2.7\n",
       "matplotlib          3.6.2\n",
       "numpy               1.20.3\n",
       "pandas              1.3.0\n",
       "seaborn             0.11.2\n",
       "session_info        1.0.0\n",
       "shap                0.41.0\n",
       "sklearn             1.0.2\n",
       "xgboost             1.6.1\n",
       "-----\n",
       "</pre>\n",
       "<details>\n",
       "<summary>Click to view modules imported as dependencies</summary>\n",
       "<pre>\n",
       "PIL                         9.2.0\n",
       "backcall                    0.2.0\n",
       "beta_ufunc                  NA\n",
       "binom_ufunc                 NA\n",
       "bottleneck                  1.3.2\n",
       "cffi                        1.14.6\n",
       "cloudpickle                 2.0.0\n",
       "colorama                    0.4.4\n",
       "cycler                      0.10.0\n",
       "cython_runtime              NA\n",
       "dateutil                    2.8.2\n",
       "debugpy                     1.4.1\n",
       "decorator                   5.1.0\n",
       "defusedxml                  0.7.1\n",
       "dill                        0.3.6\n",
       "future                      0.18.2\n",
       "google                      NA\n",
       "hypergeom_ufunc             NA\n",
       "ipykernel                   6.4.1\n",
       "ipython_genutils            0.2.0\n",
       "ipywidgets                  7.6.5\n",
       "jedi                        0.18.0\n",
       "joblib                      1.0.1\n",
       "jupyter_server              1.23.4\n",
       "kiwisolver                  1.4.4\n",
       "llvmlite                    0.37.0\n",
       "matplotlib_inline           NA\n",
       "mpl_toolkits                NA\n",
       "mypy_extensions             NA\n",
       "nbinom_ufunc                NA\n",
       "ncf_ufunc                   NA\n",
       "networkx                    2.8.8\n",
       "nt                          NA\n",
       "numba                       0.54.1\n",
       "numexpr                     2.7.3\n",
       "numpydoc                    1.1.0\n",
       "packaging                   21.3\n",
       "parso                       0.8.2\n",
       "past                        0.18.2\n",
       "pickleshare                 0.7.5\n",
       "pkg_resources               NA\n",
       "prompt_toolkit              3.0.20\n",
       "psutil                      5.8.0\n",
       "py4j                        0.10.9.7\n",
       "pyarrow                     9.0.0\n",
       "pydev_ipython               NA\n",
       "pydevconsole                NA\n",
       "pydevd                      2.4.1\n",
       "pydevd_concurrency_analyser NA\n",
       "pydevd_file_utils           NA\n",
       "pydevd_plugins              NA\n",
       "pydevd_tracing              NA\n",
       "pyexpat                     NA\n",
       "pygments                    2.11.2\n",
       "pyparsing                   3.0.9\n",
       "pyspark                     3.4.0\n",
       "pytz                        2021.3\n",
       "pywin32_bootstrap           NA\n",
       "pywin32_system32            NA\n",
       "ruamel                      NA\n",
       "scipy                       1.9.1\n",
       "six                         1.16.0\n",
       "slicer                      NA\n",
       "sphinxcontrib               NA\n",
       "statsmodels                 0.12.2\n",
       "storemagic                  NA\n",
       "threadpoolctl               2.2.0\n",
       "torch                       1.12.1+cpu\n",
       "tornado                     6.1\n",
       "tqdm                        4.62.3\n",
       "traitlets                   5.1.0\n",
       "typing_extensions           NA\n",
       "wcwidth                     0.2.5\n",
       "yaml                        6.0\n",
       "zmq                         22.2.1\n",
       "zope                        NA\n",
       "</pre>\n",
       "</details> <!-- seems like this ends pre, so might as well be explicit -->\n",
       "<pre>\n",
       "-----\n",
       "IPython             7.29.0\n",
       "jupyter_client      6.1.12\n",
       "jupyter_core        4.8.1\n",
       "jupyterlab          3.5.2\n",
       "notebook            6.4.5\n",
       "-----\n",
       "Python 3.9.7 (default, Sep 16 2021, 16:59:28) [MSC v.1916 64 bit (AMD64)]\n",
       "Windows-10-10.0.19044-SP0\n",
       "-----\n",
       "Session information updated at 2023-06-30 09:50\n",
       "</pre>\n",
       "</details>"
      ],
      "text/plain": [
       "<IPython.core.display.HTML object>"
      ]
     },
     "execution_count": 224,
     "metadata": {},
     "output_type": "execute_result"
    }
   ],
   "source": [
    "import session_info\n",
    "session_info.show()"
   ]
  },
  {
   "cell_type": "code",
   "execution_count": 197,
   "id": "c1cd570a-6fad-4296-a362-0140a1b4a3b4",
   "metadata": {},
   "outputs": [],
   "source": [
    "RANDOM_STATE = 32"
   ]
  },
  {
   "cell_type": "code",
   "execution_count": 3,
   "id": "44f6dbc1-bd44-4c3f-92fd-83011203927a",
   "metadata": {},
   "outputs": [],
   "source": [
    "DATASET_PATH = \"./data/preprocessed_data.csv\""
   ]
  },
  {
   "cell_type": "markdown",
   "id": "4bfeee8f-128d-431e-acd1-92de22c61fc0",
   "metadata": {},
   "source": [
    "## Загрузка данных"
   ]
  },
  {
   "cell_type": "code",
   "execution_count": 4,
   "id": "22f39567-fa17-4524-857c-e79550bc22de",
   "metadata": {},
   "outputs": [],
   "source": [
    "# загрузка данных\n",
    "df = pd.read_csv(DATASET_PATH)"
   ]
  },
  {
   "cell_type": "code",
   "execution_count": 5,
   "id": "c2dbc24d-5675-437a-b9fa-17446e892d85",
   "metadata": {},
   "outputs": [
    {
     "data": {
      "text/html": [
       "<div>\n",
       "<style scoped>\n",
       "    .dataframe tbody tr th:only-of-type {\n",
       "        vertical-align: middle;\n",
       "    }\n",
       "\n",
       "    .dataframe tbody tr th {\n",
       "        vertical-align: top;\n",
       "    }\n",
       "\n",
       "    .dataframe thead th {\n",
       "        text-align: right;\n",
       "    }\n",
       "</style>\n",
       "<table border=\"1\" class=\"dataframe\">\n",
       "  <thead>\n",
       "    <tr style=\"text-align: right;\">\n",
       "      <th></th>\n",
       "      <th>SeriousDlqin2yrs</th>\n",
       "      <th>RevolvingUtilizationOfUnsecuredLines</th>\n",
       "      <th>age</th>\n",
       "      <th>NumberOfTime30-59DaysPastDueNotWorse</th>\n",
       "      <th>DebtRatio</th>\n",
       "      <th>MonthlyIncome</th>\n",
       "      <th>NumberOfOpenCreditLinesAndLoans</th>\n",
       "      <th>NumberOfTimes90DaysLate</th>\n",
       "      <th>NumberOfTime60-89DaysPastDueNotWorse</th>\n",
       "      <th>NumberOfDependents</th>\n",
       "      <th>RealEstateLoansOrLines</th>\n",
       "      <th>GroupAge</th>\n",
       "    </tr>\n",
       "  </thead>\n",
       "  <tbody>\n",
       "    <tr>\n",
       "      <th>85677</th>\n",
       "      <td>0</td>\n",
       "      <td>0.093062</td>\n",
       "      <td>59.0</td>\n",
       "      <td>1</td>\n",
       "      <td>1756.000000</td>\n",
       "      <td>6250.0</td>\n",
       "      <td>12</td>\n",
       "      <td>0</td>\n",
       "      <td>0</td>\n",
       "      <td>0.0</td>\n",
       "      <td>A</td>\n",
       "      <td>d</td>\n",
       "    </tr>\n",
       "    <tr>\n",
       "      <th>85466</th>\n",
       "      <td>0</td>\n",
       "      <td>0.444544</td>\n",
       "      <td>47.0</td>\n",
       "      <td>0</td>\n",
       "      <td>0.366996</td>\n",
       "      <td>8307.0</td>\n",
       "      <td>7</td>\n",
       "      <td>0</td>\n",
       "      <td>0</td>\n",
       "      <td>2.0</td>\n",
       "      <td>A</td>\n",
       "      <td>c</td>\n",
       "    </tr>\n",
       "    <tr>\n",
       "      <th>75205</th>\n",
       "      <td>0</td>\n",
       "      <td>0.032781</td>\n",
       "      <td>48.0</td>\n",
       "      <td>0</td>\n",
       "      <td>0.247479</td>\n",
       "      <td>12000.0</td>\n",
       "      <td>13</td>\n",
       "      <td>0</td>\n",
       "      <td>0</td>\n",
       "      <td>3.0</td>\n",
       "      <td>B</td>\n",
       "      <td>c</td>\n",
       "    </tr>\n",
       "    <tr>\n",
       "      <th>58949</th>\n",
       "      <td>0</td>\n",
       "      <td>0.000000</td>\n",
       "      <td>51.0</td>\n",
       "      <td>0</td>\n",
       "      <td>0.429592</td>\n",
       "      <td>3500.0</td>\n",
       "      <td>14</td>\n",
       "      <td>0</td>\n",
       "      <td>0</td>\n",
       "      <td>3.0</td>\n",
       "      <td>A</td>\n",
       "      <td>d</td>\n",
       "    </tr>\n",
       "    <tr>\n",
       "      <th>2642</th>\n",
       "      <td>1</td>\n",
       "      <td>0.922269</td>\n",
       "      <td>42.0</td>\n",
       "      <td>1</td>\n",
       "      <td>0.174403</td>\n",
       "      <td>3726.0</td>\n",
       "      <td>3</td>\n",
       "      <td>0</td>\n",
       "      <td>0</td>\n",
       "      <td>4.0</td>\n",
       "      <td>A</td>\n",
       "      <td>c</td>\n",
       "    </tr>\n",
       "  </tbody>\n",
       "</table>\n",
       "</div>"
      ],
      "text/plain": [
       "       SeriousDlqin2yrs  RevolvingUtilizationOfUnsecuredLines   age  \\\n",
       "85677                 0                              0.093062  59.0   \n",
       "85466                 0                              0.444544  47.0   \n",
       "75205                 0                              0.032781  48.0   \n",
       "58949                 0                              0.000000  51.0   \n",
       "2642                  1                              0.922269  42.0   \n",
       "\n",
       "       NumberOfTime30-59DaysPastDueNotWorse    DebtRatio  MonthlyIncome  \\\n",
       "85677                                     1  1756.000000         6250.0   \n",
       "85466                                     0     0.366996         8307.0   \n",
       "75205                                     0     0.247479        12000.0   \n",
       "58949                                     0     0.429592         3500.0   \n",
       "2642                                      1     0.174403         3726.0   \n",
       "\n",
       "       NumberOfOpenCreditLinesAndLoans  NumberOfTimes90DaysLate  \\\n",
       "85677                               12                        0   \n",
       "85466                                7                        0   \n",
       "75205                               13                        0   \n",
       "58949                               14                        0   \n",
       "2642                                 3                        0   \n",
       "\n",
       "       NumberOfTime60-89DaysPastDueNotWorse  NumberOfDependents  \\\n",
       "85677                                     0                 0.0   \n",
       "85466                                     0                 2.0   \n",
       "75205                                     0                 3.0   \n",
       "58949                                     0                 3.0   \n",
       "2642                                      0                 4.0   \n",
       "\n",
       "      RealEstateLoansOrLines GroupAge  \n",
       "85677                      A        d  \n",
       "85466                      A        c  \n",
       "75205                      B        c  \n",
       "58949                      A        d  \n",
       "2642                       A        c  "
      ]
     },
     "execution_count": 5,
     "metadata": {},
     "output_type": "execute_result"
    }
   ],
   "source": [
    "df.sample(5)"
   ]
  },
  {
   "cell_type": "code",
   "execution_count": 6,
   "id": "2f8e387e-5551-4d17-979b-61ba0f200cbf",
   "metadata": {},
   "outputs": [
    {
     "name": "stdout",
     "output_type": "stream",
     "text": [
      "<class 'pandas.core.frame.DataFrame'>\n",
      "RangeIndex: 131679 entries, 0 to 131678\n",
      "Data columns (total 12 columns):\n",
      " #   Column                                Non-Null Count   Dtype  \n",
      "---  ------                                --------------   -----  \n",
      " 0   SeriousDlqin2yrs                      131679 non-null  int64  \n",
      " 1   RevolvingUtilizationOfUnsecuredLines  131679 non-null  float64\n",
      " 2   age                                   131679 non-null  float64\n",
      " 3   NumberOfTime30-59DaysPastDueNotWorse  131679 non-null  int64  \n",
      " 4   DebtRatio                             131679 non-null  float64\n",
      " 5   MonthlyIncome                         131679 non-null  float64\n",
      " 6   NumberOfOpenCreditLinesAndLoans       131679 non-null  int64  \n",
      " 7   NumberOfTimes90DaysLate               131679 non-null  int64  \n",
      " 8   NumberOfTime60-89DaysPastDueNotWorse  131679 non-null  int64  \n",
      " 9   NumberOfDependents                    131679 non-null  float64\n",
      " 10  RealEstateLoansOrLines                131679 non-null  object \n",
      " 11  GroupAge                              131679 non-null  object \n",
      "dtypes: float64(5), int64(5), object(2)\n",
      "memory usage: 12.1+ MB\n"
     ]
    }
   ],
   "source": [
    "df.info()"
   ]
  },
  {
   "cell_type": "code",
   "execution_count": 7,
   "id": "c10ef712-f70b-4eaa-83c4-07ad0104265d",
   "metadata": {},
   "outputs": [],
   "source": [
    "target = ['SeriousDlqin2yrs']\n",
    "cat_features = ['RealEstateLoansOrLines', 'GroupAge']\n",
    "num_features = list(set(df.columns.to_list())- set(target) -set(cat_features))\n",
    "\n",
    "df = df.astype({target[0]:int})"
   ]
  },
  {
   "cell_type": "markdown",
   "id": "0f0aef1b-cf92-4ce4-91f8-be3ab2a9f31b",
   "metadata": {},
   "source": [
    "## Пайплайн модели\n",
    "\n",
    "1) Отмасштабировать признаки;\n",
    "2) Закодировать категориальные(?);\n",
    "3) Сбалансировать классы(?);\n",
    "4) Обучить модель;\n",
    "5) Выбрать порог."
   ]
  },
  {
   "cell_type": "code",
   "execution_count": 8,
   "id": "85c79f3d-85e4-4658-9bef-b143053ec6c5",
   "metadata": {},
   "outputs": [
    {
     "data": {
      "text/plain": [
       "SeriousDlqin2yrs\n",
       "0                   123780\n",
       "1                     7899\n",
       "dtype: int64"
      ]
     },
     "execution_count": 8,
     "metadata": {},
     "output_type": "execute_result"
    }
   ],
   "source": [
    "df[target].value_counts()"
   ]
  },
  {
   "cell_type": "code",
   "execution_count": 198,
   "id": "41e38089-6bfe-40d0-8f77-a330e8cfde5a",
   "metadata": {},
   "outputs": [],
   "source": [
    "X = df[num_features]\n",
    "y = df[target]\n",
    "\n",
    "X_train, X_test, y_train, y_test = train_test_split(X, y, \n",
    "                                                    test_size = 0.3, \n",
    "                                                    random_state = RANDOM_STATE,\n",
    "                                                    shuffle=True\n",
    "                                                   )"
   ]
  },
  {
   "cell_type": "markdown",
   "id": "9778f182-024f-4b6d-bad0-593753420a38",
   "metadata": {},
   "source": [
    "### Наивная модель"
   ]
  },
  {
   "cell_type": "code",
   "execution_count": 77,
   "id": "4367df56-221b-4c84-a77b-8046e0592437",
   "metadata": {},
   "outputs": [
    {
     "name": "stdout",
     "output_type": "stream",
     "text": [
      "ROC-AUC score(train):  0.8406074827495302\n",
      "ROC-AUC score(test):  0.8456233188762838\n",
      "              precision    recall  f1-score   support\n",
      "\n",
      "           0       0.95      0.99      0.97     37139\n",
      "           1       0.57      0.15      0.23      2365\n",
      "\n",
      "    accuracy                           0.94     39504\n",
      "   macro avg       0.76      0.57      0.60     39504\n",
      "weighted avg       0.93      0.94      0.93     39504\n",
      "\n",
      "Wall time: 3.13 s\n"
     ]
    }
   ],
   "source": [
    "%%time\n",
    "lreg = LogisticRegression(max_iter=500)\n",
    "lreg.fit(X_train, y_train.to_numpy()[:,0])\n",
    "\n",
    "print(\"ROC-AUC score(train): \", roc_auc_score(y_train, lreg.predict_proba(X_train)[:,1]))\n",
    "print(\"ROC-AUC score(test): \", roc_auc_score(y_test, lreg.predict_proba(X_test)[:,1]))\n",
    "\n",
    "pred = lreg.predict(X_test)\n",
    "print(classification_report(y_test, pred))"
   ]
  },
  {
   "cell_type": "code",
   "execution_count": 78,
   "id": "5d672add-9199-4b14-b61c-05e56dd2ad5a",
   "metadata": {},
   "outputs": [],
   "source": [
    "df_1 = df.loc[df[target[0]]==1]\n",
    "df_1 = df_1.loc[df_1.index.repeat(15)]\n",
    "\n",
    "df_train = pd.concat([df.loc[df[target[0]]==0], df_1]).sample(frac=1)"
   ]
  },
  {
   "cell_type": "code",
   "execution_count": 199,
   "id": "016e9df0-21e4-499c-87e0-866770de9310",
   "metadata": {},
   "outputs": [
    {
     "name": "stdout",
     "output_type": "stream",
     "text": [
      "ROC-AUC score(train):  0.837784910779425\n",
      "ROC-AUC score(test):  0.8362113631159429\n",
      "              precision    recall  f1-score   support\n",
      "\n",
      "           0       0.72      0.84      0.78     36990\n",
      "           1       0.80      0.66      0.72     35690\n",
      "\n",
      "    accuracy                           0.75     72680\n",
      "   macro avg       0.76      0.75      0.75     72680\n",
      "weighted avg       0.76      0.75      0.75     72680\n",
      "\n",
      "Wall time: 1.75 s\n"
     ]
    },
    {
     "name": "stderr",
     "output_type": "stream",
     "text": [
      "lbfgs failed to converge (status=1):\n",
      "STOP: TOTAL NO. of ITERATIONS REACHED LIMIT.\n",
      "\n",
      "Increase the number of iterations (max_iter) or scale the data as shown in:\n",
      "    https://scikit-learn.org/stable/modules/preprocessing.html\n",
      "Please also refer to the documentation for alternative solver options:\n",
      "    https://scikit-learn.org/stable/modules/linear_model.html#logistic-regression\n"
     ]
    }
   ],
   "source": [
    "%%time\n",
    "X = df_train[num_features]\n",
    "y = df_train[target]\n",
    "\n",
    "X_train, X_test, y_train, y_test = train_test_split(X, y, \n",
    "                                                    test_size = 0.3, \n",
    "                                                    random_state = RANDOM_STATE,\n",
    "                                                    shuffle=True)\n",
    "\n",
    "\n",
    "lreg = LogisticRegression(max_iter=100)\n",
    "lreg.fit(X_train, y_train.to_numpy()[:,0])\n",
    "\n",
    "print(\"ROC-AUC score(train): \", roc_auc_score(y_train, lreg.predict_proba(X_train)[:,1]))\n",
    "print(\"ROC-AUC score(test): \", roc_auc_score(y_test, lreg.predict_proba(X_test)[:,1]))\n",
    "\n",
    "pred = lreg.predict(X_test)\n",
    "print(classification_report(y_test, pred))"
   ]
  },
  {
   "cell_type": "markdown",
   "id": "5263ce37-1545-4b86-880d-594278712221",
   "metadata": {},
   "source": [
    "Видно, как upsampling значительно увеличивает точность предсказания для 1го класса"
   ]
  },
  {
   "cell_type": "markdown",
   "id": "b6bac60e-41d5-43f4-ab2c-f028c5075ccc",
   "metadata": {},
   "source": [
    "### XgboostClassifier + scaling/normalization"
   ]
  },
  {
   "cell_type": "code",
   "execution_count": 200,
   "id": "0c7e074b-b5d4-4ff9-ae29-b92edb296267",
   "metadata": {},
   "outputs": [
    {
     "data": {
      "text/html": [
       "<div>\n",
       "<style scoped>\n",
       "    .dataframe tbody tr th:only-of-type {\n",
       "        vertical-align: middle;\n",
       "    }\n",
       "\n",
       "    .dataframe tbody tr th {\n",
       "        vertical-align: top;\n",
       "    }\n",
       "\n",
       "    .dataframe thead th {\n",
       "        text-align: right;\n",
       "    }\n",
       "</style>\n",
       "<table border=\"1\" class=\"dataframe\">\n",
       "  <thead>\n",
       "    <tr style=\"text-align: right;\">\n",
       "      <th></th>\n",
       "      <th>SeriousDlqin2yrs</th>\n",
       "      <th>RevolvingUtilizationOfUnsecuredLines</th>\n",
       "      <th>age</th>\n",
       "      <th>NumberOfTime30-59DaysPastDueNotWorse</th>\n",
       "      <th>DebtRatio</th>\n",
       "      <th>MonthlyIncome</th>\n",
       "      <th>NumberOfOpenCreditLinesAndLoans</th>\n",
       "      <th>NumberOfTimes90DaysLate</th>\n",
       "      <th>NumberOfTime60-89DaysPastDueNotWorse</th>\n",
       "      <th>NumberOfDependents</th>\n",
       "      <th>RealEstateLoansOrLines</th>\n",
       "      <th>GroupAge</th>\n",
       "    </tr>\n",
       "  </thead>\n",
       "  <tbody>\n",
       "    <tr>\n",
       "      <th>0</th>\n",
       "      <td>0</td>\n",
       "      <td>0.221813</td>\n",
       "      <td>43.0</td>\n",
       "      <td>0</td>\n",
       "      <td>0.527888</td>\n",
       "      <td>3280.0</td>\n",
       "      <td>7</td>\n",
       "      <td>0</td>\n",
       "      <td>0</td>\n",
       "      <td>2.0</td>\n",
       "      <td>A</td>\n",
       "      <td>c</td>\n",
       "    </tr>\n",
       "    <tr>\n",
       "      <th>1</th>\n",
       "      <td>0</td>\n",
       "      <td>0.602794</td>\n",
       "      <td>25.0</td>\n",
       "      <td>0</td>\n",
       "      <td>0.065868</td>\n",
       "      <td>333.0</td>\n",
       "      <td>2</td>\n",
       "      <td>0</td>\n",
       "      <td>0</td>\n",
       "      <td>0.0</td>\n",
       "      <td>A</td>\n",
       "      <td>b</td>\n",
       "    </tr>\n",
       "    <tr>\n",
       "      <th>2</th>\n",
       "      <td>1</td>\n",
       "      <td>0.025656</td>\n",
       "      <td>38.0</td>\n",
       "      <td>0</td>\n",
       "      <td>0.475841</td>\n",
       "      <td>3000.0</td>\n",
       "      <td>7</td>\n",
       "      <td>0</td>\n",
       "      <td>0</td>\n",
       "      <td>2.0</td>\n",
       "      <td>A</td>\n",
       "      <td>c</td>\n",
       "    </tr>\n",
       "    <tr>\n",
       "      <th>3</th>\n",
       "      <td>0</td>\n",
       "      <td>0.075427</td>\n",
       "      <td>32.0</td>\n",
       "      <td>0</td>\n",
       "      <td>0.085512</td>\n",
       "      <td>7916.0</td>\n",
       "      <td>6</td>\n",
       "      <td>0</td>\n",
       "      <td>0</td>\n",
       "      <td>0.0</td>\n",
       "      <td>A</td>\n",
       "      <td>b</td>\n",
       "    </tr>\n",
       "    <tr>\n",
       "      <th>4</th>\n",
       "      <td>0</td>\n",
       "      <td>0.046560</td>\n",
       "      <td>58.0</td>\n",
       "      <td>0</td>\n",
       "      <td>0.241622</td>\n",
       "      <td>2416.0</td>\n",
       "      <td>9</td>\n",
       "      <td>0</td>\n",
       "      <td>0</td>\n",
       "      <td>0.0</td>\n",
       "      <td>A</td>\n",
       "      <td>d</td>\n",
       "    </tr>\n",
       "  </tbody>\n",
       "</table>\n",
       "</div>"
      ],
      "text/plain": [
       "   SeriousDlqin2yrs  RevolvingUtilizationOfUnsecuredLines   age  \\\n",
       "0                 0                              0.221813  43.0   \n",
       "1                 0                              0.602794  25.0   \n",
       "2                 1                              0.025656  38.0   \n",
       "3                 0                              0.075427  32.0   \n",
       "4                 0                              0.046560  58.0   \n",
       "\n",
       "   NumberOfTime30-59DaysPastDueNotWorse  DebtRatio  MonthlyIncome  \\\n",
       "0                                     0   0.527888         3280.0   \n",
       "1                                     0   0.065868          333.0   \n",
       "2                                     0   0.475841         3000.0   \n",
       "3                                     0   0.085512         7916.0   \n",
       "4                                     0   0.241622         2416.0   \n",
       "\n",
       "   NumberOfOpenCreditLinesAndLoans  NumberOfTimes90DaysLate  \\\n",
       "0                                7                        0   \n",
       "1                                2                        0   \n",
       "2                                7                        0   \n",
       "3                                6                        0   \n",
       "4                                9                        0   \n",
       "\n",
       "   NumberOfTime60-89DaysPastDueNotWorse  NumberOfDependents  \\\n",
       "0                                     0                 2.0   \n",
       "1                                     0                 0.0   \n",
       "2                                     0                 2.0   \n",
       "3                                     0                 0.0   \n",
       "4                                     0                 0.0   \n",
       "\n",
       "  RealEstateLoansOrLines GroupAge  \n",
       "0                      A        c  \n",
       "1                      A        b  \n",
       "2                      A        c  \n",
       "3                      A        b  \n",
       "4                      A        d  "
      ]
     },
     "execution_count": 200,
     "metadata": {},
     "output_type": "execute_result"
    }
   ],
   "source": [
    "df.head()"
   ]
  },
  {
   "cell_type": "code",
   "execution_count": 201,
   "id": "0ddec238-e8b8-4dc1-9b12-cc3a1486c5ef",
   "metadata": {},
   "outputs": [],
   "source": [
    "columns_need_normalize = [\"DebtRatio\", \"MonthlyIncome\"]"
   ]
  },
  {
   "cell_type": "code",
   "execution_count": 202,
   "id": "d9a608aa-2877-4ed1-bd84-81a126ad88ef",
   "metadata": {},
   "outputs": [],
   "source": [
    "# Setup the pipeline steps: steps\n",
    "# transformer = ColumnTransformer(\n",
    "#     transformers=[('scaler', RobustScaler(), num_features),\n",
    "#                  ('norm', Normalizer(), num_features)\n",
    "#                  ]\n",
    "# )\n",
    "\n",
    "# steps_1 = [('t', transformer),\n",
    "#          ('lreg_model', LogisticRegression())]\n",
    "\n",
    "# steps_2 = [('t', transformer),\n",
    "#          ('xgb_model', XGBClassifier(n_jobs=-1))]\n",
    "\n",
    "steps_1 = [('scaler', RobustScaler()),\n",
    "           ('norm', Normalizer()),\n",
    "         ('lreg_model', LogisticRegression())]\n",
    "\n",
    "steps_2 = [('scaler', RobustScaler()),\n",
    "           ('norm', Normalizer()),\n",
    "         ('xgb_model', XGBClassifier(n_jobs=-1))]\n",
    "\n",
    "# Create the pipeline: lreg_pipeline\n",
    "lreg_pipeline = Pipeline(steps_1)\n",
    "# Create the pipeline: xgb_pipeline\n",
    "xgb_pipeline = Pipeline(steps_2)"
   ]
  },
  {
   "cell_type": "code",
   "execution_count": 203,
   "id": "c45d4c6d-8418-44a9-8837-8ad81b0fb5cb",
   "metadata": {},
   "outputs": [
    {
     "name": "stdout",
     "output_type": "stream",
     "text": [
      "ROC-AUC score(train):  0.9225287878185995\n",
      "ROC-AUC score(test):  0.9119070135575403\n",
      "              precision    recall  f1-score   support\n",
      "\n",
      "           0       0.85      0.82      0.83     36990\n",
      "           1       0.82      0.85      0.84     35690\n",
      "\n",
      "    accuracy                           0.84     72680\n",
      "   macro avg       0.84      0.84      0.84     72680\n",
      "weighted avg       0.84      0.84      0.84     72680\n",
      "\n"
     ]
    }
   ],
   "source": [
    "# training\n",
    "xgb_pipeline.fit(X_train, y_train.to_numpy())\n",
    "\n",
    "print(\"ROC-AUC score(train): \", roc_auc_score(y_train, xgb_pipeline.predict_proba(X_train)[:,1]))\n",
    "print(\"ROC-AUC score(test): \", roc_auc_score(y_test, xgb_pipeline.predict_proba(X_test)[:,1]))\n",
    "\n",
    "pred = xgb_pipeline.predict(X_test)\n",
    "print(classification_report(y_test, pred))"
   ]
  },
  {
   "cell_type": "code",
   "execution_count": 204,
   "id": "d8c54f35-7e24-48e9-a6eb-17ef834681e7",
   "metadata": {},
   "outputs": [
    {
     "name": "stderr",
     "output_type": "stream",
     "text": [
      "A column-vector y was passed when a 1d array was expected. Please change the shape of y to (n_samples, ), for example using ravel().\n"
     ]
    },
    {
     "name": "stdout",
     "output_type": "stream",
     "text": [
      "ROC-AUC score(train):  0.8180077086433251\n",
      "ROC-AUC score(test):  0.817681788471527\n",
      "              precision    recall  f1-score   support\n",
      "\n",
      "           0       0.70      0.82      0.75     36990\n",
      "           1       0.77      0.63      0.70     35690\n",
      "\n",
      "    accuracy                           0.73     72680\n",
      "   macro avg       0.74      0.73      0.73     72680\n",
      "weighted avg       0.74      0.73      0.73     72680\n",
      "\n"
     ]
    }
   ],
   "source": [
    "lreg_pipeline.fit(X_train, y_train.to_numpy())\n",
    "\n",
    "print(\"ROC-AUC score(train): \", roc_auc_score(y_train, lreg_pipeline.predict_proba(X_train)[:,1]))\n",
    "print(\"ROC-AUC score(test): \", roc_auc_score(y_test, lreg_pipeline.predict_proba(X_test)[:,1]))\n",
    "\n",
    "pred = lreg_pipeline.predict(X_test)\n",
    "print(classification_report(y_test, pred))"
   ]
  },
  {
   "cell_type": "markdown",
   "id": "cdda025c-a3c8-43e3-a472-8d253c4accc2",
   "metadata": {},
   "source": [
    "## Оптимизация модели"
   ]
  },
  {
   "cell_type": "markdown",
   "id": "97008f75-488d-4f70-983f-930eafa20f50",
   "metadata": {
    "toc-hr-collapsed": true
   },
   "source": [
    "### ROC кривая"
   ]
  },
  {
   "cell_type": "code",
   "execution_count": 157,
   "id": "09edb18d-3cd8-4252-9a18-123429825c91",
   "metadata": {},
   "outputs": [],
   "source": [
    "def plot_roc_curve(X_test, y_test, model, label):\n",
    "    fpr, tpr, _ = roc_curve(y_test, model.predict_proba(X_test)[:,1])\n",
    "    plt.plot(fpr, tpr, label=label)"
   ]
  },
  {
   "cell_type": "code",
   "execution_count": 158,
   "id": "a5e61772-e3ab-4f57-bb5c-85fbb253bd9d",
   "metadata": {},
   "outputs": [
    {
     "data": {
      "text/plain": [
       "<matplotlib.legend.Legend at 0x208821befa0>"
      ]
     },
     "execution_count": 158,
     "metadata": {},
     "output_type": "execute_result"
    },
    {
     "data": {
      "image/png": "[encoded data removed]",
      "text/plain": [
       "<Figure size 576x432 with 1 Axes>"
      ]
     },
     "metadata": {
      "needs_background": "light"
     },
     "output_type": "display_data"
    }
   ],
   "source": [
    "plt.figure(figsize=(8,6))\n",
    "plot_roc_curve(X_test, y_test, xgb_pipeline, \"xhboost\")\n",
    "plot_roc_curve(X_test, y_test, lreg, \"log reg\")\n",
    "plt.legend()"
   ]
  },
  {
   "cell_type": "markdown",
   "id": "37cd1018-cab5-4ef9-a279-2cc0706b0323",
   "metadata": {},
   "source": [
    "#### GridSearchCV"
   ]
  },
  {
   "cell_type": "code",
   "execution_count": 21,
   "id": "6eca44e7-b631-4db2-bf04-71c4049465dc",
   "metadata": {},
   "outputs": [],
   "source": [
    "parameters = {\"xgb_model__learning_rate\":[0.05, 0.10, 0.15, 0.20, 0.25, 0.30 ],\n",
    "              \"xgb_model__n_estimators\":[200,250,300],\n",
    "              \"xgb_model__max_depth\":[3,4,5,6,8]\n",
    "             }\n",
    "\n",
    "grid_search = GridSearchCV(xgb_pipeline, \n",
    "                           parameters, \n",
    "                           scoring='roc_auc',\n",
    "                           verbose=1)"
   ]
  },
  {
   "cell_type": "code",
   "execution_count": 22,
   "id": "3ee06919-078c-4b8f-8c9d-107184b7c6c1",
   "metadata": {
    "tags": []
   },
   "outputs": [],
   "source": [
    "# %%time\n",
    "# grid_search.fit(X_train, y_train)"
   ]
  },
  {
   "cell_type": "code",
   "execution_count": 23,
   "id": "9ffa4001-3944-4dd7-8687-31b5496d3ed6",
   "metadata": {},
   "outputs": [
    {
     "ename": "AttributeError",
     "evalue": "'GridSearchCV' object has no attribute 'best_score_'",
     "output_type": "error",
     "traceback": [
      "\u001b[1;31m---------------------------------------------------------------------------\u001b[0m",
      "\u001b[1;31mAttributeError\u001b[0m                            Traceback (most recent call last)",
      "\u001b[1;32m~\\AppData\\Local\\Temp/ipykernel_1688/2718232776.py\u001b[0m in \u001b[0;36m<module>\u001b[1;34m\u001b[0m\n\u001b[1;32m----> 1\u001b[1;33m \u001b[0mgrid_search\u001b[0m\u001b[1;33m.\u001b[0m\u001b[0mbest_score_\u001b[0m\u001b[1;33m\u001b[0m\u001b[1;33m\u001b[0m\u001b[0m\n\u001b[0m",
      "\u001b[1;31mAttributeError\u001b[0m: 'GridSearchCV' object has no attribute 'best_score_'"
     ]
    }
   ],
   "source": [
    "# grid_search.best_score_"
   ]
  },
  {
   "cell_type": "markdown",
   "id": "6dc58935-14ef-4fe0-9ca6-448441a40281",
   "metadata": {},
   "source": [
    "Метод надёжный, но очень долгий и неоптимальный"
   ]
  },
  {
   "cell_type": "markdown",
   "id": "9445f014-f6a9-4c5b-a5d8-d969d7a1e475",
   "metadata": {},
   "source": [
    "#### Bayesian Optimization"
   ]
  },
  {
   "cell_type": "code",
   "execution_count": 24,
   "id": "c801a4f6-94f6-4768-96c5-d3ce687a7d76",
   "metadata": {},
   "outputs": [
    {
     "name": "stderr",
     "output_type": "stream",
     "text": [
      "WARNING: Ignoring invalid distribution -atplotlib (c:\\users\\duhak\\anaconda3\\lib\\site-packages)\n",
      "WARNING: Ignoring invalid distribution -atplotlib (c:\\users\\duhak\\anaconda3\\lib\\site-packages)\n"
     ]
    }
   ],
   "source": [
    "!pip install hyperopt -q"
   ]
  },
  {
   "cell_type": "code",
   "execution_count": 25,
   "id": "a4735d00-91a1-4851-9f3f-2a2f3d3bf519",
   "metadata": {},
   "outputs": [],
   "source": [
    "from hyperopt import STATUS_OK, Trials, fmin, hp, tpe"
   ]
  },
  {
   "cell_type": "code",
   "execution_count": 26,
   "id": "45caaece-5afe-43b7-b91a-d6b968a3928f",
   "metadata": {},
   "outputs": [],
   "source": [
    "space={'xgb_model__max_depth': hp.quniform(\"max_depth\", 3, 15, 1),\n",
    "       'xgb_model__gamma': hp.uniform ('gamma', 1,9),\n",
    "       # 'xgb_model__reg_alpha' : hp.quniform('reg_alpha', 40,180,1),\n",
    "       # 'xgb_model__reg_lambda' : hp.uniform('reg_lambda', 0,1),\n",
    "        'xgb_model_colsample_bytree' : hp.uniform('colsample_bytree', 0.3,1),\n",
    "        'xgb_model_min_child_weight' : hp.quniform('min_child_weight', 1, 10, 2),\n",
    "        'xgb_model_n_estimators': hp.quniform('n_estimators', 200, 400, 50),\n",
    "        'xgb_model_seed': 0\n",
    "    }"
   ]
  },
  {
   "cell_type": "code",
   "execution_count": 27,
   "id": "af72e723-5664-4c46-8bcb-7fb24af6c22b",
   "metadata": {},
   "outputs": [],
   "source": [
    "def objective_pipe(params):\n",
    "    transformer = ColumnTransformer( \n",
    "        transformers=[('scaler', RobustScaler(), columns_need_normalize),\n",
    "                      ('norm', Normalizer(), num_features)])\n",
    "\n",
    "    steps_2 = [('t', transformer),\n",
    "               ('xgb_model', XGBClassifier(n_jobs=-1))]\n",
    "\n",
    "    # Create the pipeline: xgb_pipeline\n",
    "    xgb_pipeline = Pipeline(steps_2)\n",
    "\n",
    "    score = cross_val_score(xgb_pipeline, X_train, y_train, cv=5, scoring='roc_auc').mean()\n",
    "    print (\"SCORE:\", score)\n",
    "    return {'loss': -score, 'status': STATUS_OK}"
   ]
  },
  {
   "cell_type": "code",
   "execution_count": 30,
   "id": "16c66688-38fb-45cd-8469-1b025c539b12",
   "metadata": {},
   "outputs": [
    {
     "name": "stdout",
     "output_type": "stream",
     "text": [
      "100%|█████████████████████████████████████████████| 100/100 [36:18<00:00, 21.79s/trial, best loss: -0.9124312038095936]\n"
     ]
    }
   ],
   "source": [
    "trials = Trials()\n",
    "\n",
    "best_hyperparams = fmin(fn = objective_pipe,\n",
    "                        space = space,\n",
    "                        algo = tpe.suggest,\n",
    "                        max_evals = 100,\n",
    "                        trials = trials)"
   ]
  },
  {
   "cell_type": "code",
   "execution_count": 159,
   "id": "f5503b63-6ad1-4a55-9900-a20de22b1ca0",
   "metadata": {},
   "outputs": [],
   "source": [
    "# transform dictionary to pipeline parameters\n",
    "best_hyperparams_pipe = {}\n",
    "for key in best_hyperparams.keys():\n",
    "    if key=='max_depth' or key=='min_child_weight' or key=='n_estimators':\n",
    "        best_hyperparams_pipe['xgb_model__' + key] = int(best_hyperparams[key])\n",
    "        continue\n",
    "    best_hyperparams_pipe['xgb_model__' + key] = best_hyperparams[key]"
   ]
  },
  {
   "cell_type": "code",
   "execution_count": 160,
   "id": "9765d181-489d-4018-8b46-858540c83454",
   "metadata": {},
   "outputs": [
    {
     "name": "stdout",
     "output_type": "stream",
     "text": [
      "The best hyperparameters: \n",
      "{'xgb_model__colsample_bytree': 0.6387185459453528, 'xgb_model__gamma': 3.416839667082975, 'xgb_model__max_depth': 5, 'xgb_model__min_child_weight': 8, 'xgb_model__n_estimators': 250}\n"
     ]
    }
   ],
   "source": [
    "print(\"The best hyperparameters: \")\n",
    "print(best_hyperparams_pipe)"
   ]
  },
  {
   "cell_type": "code",
   "execution_count": 172,
   "id": "86c1414c-195b-43ed-871c-183c17cdd62f",
   "metadata": {},
   "outputs": [
    {
     "data": {
      "text/plain": [
       "Pipeline(steps=[('scaler', RobustScaler()), ('norm', Normalizer()),\n",
       "                ('xgb_model',\n",
       "                 XGBClassifier(base_score=0.5, booster='gbtree', callbacks=None,\n",
       "                               colsample_bylevel=1, colsample_bynode=1,\n",
       "                               colsample_bytree=0.6387185459453528,\n",
       "                               early_stopping_rounds=None,\n",
       "                               enable_categorical=False, eval_metric=None,\n",
       "                               gamma=3.416839667082975, gpu_id=-1,\n",
       "                               grow_policy='depthwise', importance_type=None,\n",
       "                               interaction_constraints='',\n",
       "                               learning_rate=0.300000012, max_bin=256,\n",
       "                               max_cat_to_onehot=4, max_delta_step=0,\n",
       "                               max_depth=5, max_leaves=0, min_child_weight=8,\n",
       "                               missing=nan, monotone_constraints='()',\n",
       "                               n_estimators=250, n_jobs=-1, num_parallel_tree=1,\n",
       "                               predictor='auto', random_state=0, reg_alpha=0,\n",
       "                               reg_lambda=1, ...))])"
      ]
     },
     "execution_count": 172,
     "metadata": {},
     "output_type": "execute_result"
    }
   ],
   "source": [
    "xgb_pipeline.set_params(**best_hyperparams_pipe)\n",
    "xgb_pipeline.fit(X_train, y_train.to_numpy())"
   ]
  },
  {
   "cell_type": "code",
   "execution_count": 173,
   "id": "88bb39fb-3ce3-49a1-8771-d8ff9608af5b",
   "metadata": {},
   "outputs": [
    {
     "name": "stdout",
     "output_type": "stream",
     "text": [
      "ROC-AUC score(train):  0.9293372112914209\n",
      "ROC-AUC score(test):  0.9194606031685637\n",
      "              precision    recall  f1-score   support\n",
      "\n",
      "           0       0.86      0.83      0.85     36872\n",
      "           1       0.83      0.86      0.85     35808\n",
      "\n",
      "    accuracy                           0.85     72680\n",
      "   macro avg       0.85      0.85      0.85     72680\n",
      "weighted avg       0.85      0.85      0.85     72680\n",
      "\n"
     ]
    }
   ],
   "source": [
    "print(\"ROC-AUC score(train): \", roc_auc_score(y_train, xgb_pipeline.predict_proba(X_train)[:,1]))\n",
    "print(\"ROC-AUC score(test): \", roc_auc_score(y_test, xgb_pipeline.predict_proba(X_test)[:,1]))\n",
    "\n",
    "pred = xgb_pipeline.predict(X_test)\n",
    "print(classification_report(y_test, pred))"
   ]
  },
  {
   "cell_type": "code",
   "execution_count": 174,
   "id": "17c6cef1-f2a4-4b7f-b115-c53069534f90",
   "metadata": {},
   "outputs": [
    {
     "name": "stdout",
     "output_type": "stream",
     "text": [
      "Wall time: 52.5 s\n"
     ]
    },
    {
     "data": {
      "text/plain": [
       "<matplotlib.legend.Legend at 0x2088ecdeb80>"
      ]
     },
     "execution_count": 174,
     "metadata": {},
     "output_type": "execute_result"
    },
    {
     "data": {
      "image/png": "[encoded data removed]",
      "text/plain": [
       "<Figure size 576x432 with 1 Axes>"
      ]
     },
     "metadata": {
      "needs_background": "light"
     },
     "output_type": "display_data"
    }
   ],
   "source": [
    "%%time\n",
    "plt.figure(figsize=(8,6))\n",
    "for n_est in [200,300,400,500]:\n",
    "    best_hyperparams_pipe[\"xgb_model__n_estimators\"] = n_est\n",
    "    xgb_pipeline.set_params(**best_hyperparams_pipe)\n",
    "    xgb_pipeline.fit(X_train, y_train.to_numpy())\n",
    "\n",
    "    \n",
    "    plot_roc_curve(X_test, y_test, xgb_pipeline, f\"n_estimetors = {n_est}\")\n",
    "plt.legend()"
   ]
  },
  {
   "cell_type": "code",
   "execution_count": 175,
   "id": "a5acf712-d156-4310-8685-41a41cbf35a2",
   "metadata": {},
   "outputs": [
    {
     "data": {
      "text/plain": [
       "<BarContainer object of 9 artists>"
      ]
     },
     "execution_count": 175,
     "metadata": {},
     "output_type": "execute_result"
    },
    {
     "data": {
      "image/png": "[encoded data removed]",
      "text/plain": [
       "<Figure size 432x288 with 1 Axes>"
      ]
     },
     "metadata": {
      "needs_background": "light"
     },
     "output_type": "display_data"
    }
   ],
   "source": [
    "sorted_idx = xgb_pipeline[2].feature_importances_.argsort()\n",
    "plt.barh(X_train.columns[sorted_idx], xgb_pipeline[2].feature_importances_[sorted_idx])"
   ]
  },
  {
   "cell_type": "code",
   "execution_count": 205,
   "id": "16b69ce0-fb4d-4f41-9c04-88e9ee86c939",
   "metadata": {},
   "outputs": [
    {
     "data": {
      "text/plain": [
       "Pipeline(steps=[('t',\n",
       "                 ColumnTransformer(transformers=[('scaler', RobustScaler(),\n",
       "                                                  ['DebtRatio',\n",
       "                                                   'MonthlyIncome']),\n",
       "                                                 ('norm', Normalizer(),\n",
       "                                                  ['RevolvingUtilizationOfUnsecuredLines',\n",
       "                                                   'NumberOfTime30-59DaysPastDueNotWorse',\n",
       "                                                   'NumberOfDependents',\n",
       "                                                   'NumberOfTime60-89DaysPastDueNotWorse',\n",
       "                                                   'age',\n",
       "                                                   'NumberOfTimes90DaysLate',\n",
       "                                                   'NumberOfOpenCreditLinesAndLoans'])])),\n",
       "                ('xgb_mode...\n",
       "                               gamma=3.416839667082975, gpu_id=-1,\n",
       "                               grow_policy='depthwise', importance_type=None,\n",
       "                               interaction_constraints='',\n",
       "                               learning_rate=0.300000012, max_bin=256,\n",
       "                               max_cat_to_onehot=4, max_delta_step=0,\n",
       "                               max_depth=5, max_leaves=0, min_child_weight=8,\n",
       "                               missing=nan, monotone_constraints='()',\n",
       "                               n_estimators=500, n_jobs=-1, num_parallel_tree=1,\n",
       "                               predictor='auto', random_state=0, reg_alpha=0,\n",
       "                               reg_lambda=1, ...))])"
      ]
     },
     "execution_count": 205,
     "metadata": {},
     "output_type": "execute_result"
    }
   ],
   "source": [
    "# another pipeline (separate data columns)\n",
    "columns_need_scalered = [\"DebtRatio\", \"MonthlyIncome\"]\n",
    "\n",
    "transformer = ColumnTransformer(\n",
    "    transformers=[('scaler', RobustScaler(), columns_need_scalered),\n",
    "                 ('norm', Normalizer(), list(set(num_features)-set(columns_need_scalered)))\n",
    "                 ]\n",
    ")\n",
    "\n",
    "steps = [('t', transformer),\n",
    "         ('xgb_model', XGBClassifier(n_jobs=-1))]\n",
    "\n",
    "# Create the pipeline: xgb_pipeline\n",
    "xgb_pipeline = Pipeline(steps)\n",
    "\n",
    "xgb_pipeline.set_params(**best_hyperparams_pipe)\n",
    "xgb_pipeline.fit(X_train, y_train.to_numpy())"
   ]
  },
  {
   "cell_type": "code",
   "execution_count": 206,
   "id": "1ba94079-bf43-476f-9609-652c9b6dacaf",
   "metadata": {},
   "outputs": [
    {
     "name": "stdout",
     "output_type": "stream",
     "text": [
      "ROC-AUC score(train):  0.9509715753049177\n",
      "ROC-AUC score(test):  0.9340351916729709\n",
      "              precision    recall  f1-score   support\n",
      "\n",
      "           0       0.87      0.85      0.86     36990\n",
      "           1       0.85      0.87      0.86     35690\n",
      "\n",
      "    accuracy                           0.86     72680\n",
      "   macro avg       0.86      0.86      0.86     72680\n",
      "weighted avg       0.86      0.86      0.86     72680\n",
      "\n"
     ]
    }
   ],
   "source": [
    "print(\"ROC-AUC score(train): \", roc_auc_score(y_train, xgb_pipeline.predict_proba(X_train)[:,1]))\n",
    "print(\"ROC-AUC score(test): \", roc_auc_score(y_test, xgb_pipeline.predict_proba(X_test)[:,1]))\n",
    "\n",
    "pred = xgb_pipeline.predict(X_test)\n",
    "print(classification_report(y_test, pred))"
   ]
  },
  {
   "cell_type": "markdown",
   "id": "ab037133-c800-40d7-8600-50fcd70776d9",
   "metadata": {},
   "source": [
    "### Сохранение модели"
   ]
  },
  {
   "cell_type": "code",
   "execution_count": 195,
   "id": "3dfb1dc7-2ba0-4183-a997-0c5b730fbdfd",
   "metadata": {},
   "outputs": [],
   "source": [
    "with open('./models/xgb_pipeline.pickle', 'wb') as f:\n",
    "    pickle.dump(xgb_pipeline, f)"
   ]
  },
  {
   "cell_type": "code",
   "execution_count": 228,
   "id": "93e4cd17-fa5d-43d0-82b0-a9f9959c9666",
   "metadata": {},
   "outputs": [],
   "source": [
    "with open('./models/xgb_pipeline.pickle', 'rb') as f:\n",
    "    model = pickle.load(f)"
   ]
  },
  {
   "cell_type": "code",
   "execution_count": 229,
   "id": "1984edce-14d9-485b-ae65-ac7613148e5c",
   "metadata": {},
   "outputs": [
    {
     "data": {
      "text/plain": [
       "Pipeline(steps=[('t',\n",
       "                 ColumnTransformer(transformers=[('scaler', RobustScaler(),\n",
       "                                                  ['DebtRatio',\n",
       "                                                   'MonthlyIncome']),\n",
       "                                                 ('norm', Normalizer(),\n",
       "                                                  ['RevolvingUtilizationOfUnsecuredLines',\n",
       "                                                   'NumberOfTime30-59DaysPastDueNotWorse',\n",
       "                                                   'NumberOfDependents',\n",
       "                                                   'NumberOfTime60-89DaysPastDueNotWorse',\n",
       "                                                   'age',\n",
       "                                                   'NumberOfTimes90DaysLate',\n",
       "                                                   'NumberOfOpenCreditLinesAndLoans'])])),\n",
       "                ('xgb_mode...\n",
       "                               gamma=3.416839667082975, gpu_id=-1,\n",
       "                               grow_policy='depthwise', importance_type=None,\n",
       "                               interaction_constraints='',\n",
       "                               learning_rate=0.300000012, max_bin=256,\n",
       "                               max_cat_to_onehot=4, max_delta_step=0,\n",
       "                               max_depth=5, max_leaves=0, min_child_weight=8,\n",
       "                               missing=nan, monotone_constraints='()',\n",
       "                               n_estimators=500, n_jobs=-1, num_parallel_tree=1,\n",
       "                               predictor='auto', random_state=0, reg_alpha=0,\n",
       "                               reg_lambda=1, ...))])"
      ]
     },
     "execution_count": 229,
     "metadata": {},
     "output_type": "execute_result"
    }
   ],
   "source": [
    "model"
   ]
  },
  {
   "cell_type": "code",
   "execution_count": 234,
   "id": "c5e31063-94a1-48a9-880f-3a612cda6c9f",
   "metadata": {},
   "outputs": [
    {
     "data": {
      "text/plain": [
       "['RevolvingUtilizationOfUnsecuredLines',\n",
       " 'NumberOfTime30-59DaysPastDueNotWorse',\n",
       " 'NumberOfDependents',\n",
       " 'DebtRatio',\n",
       " 'NumberOfTime60-89DaysPastDueNotWorse',\n",
       " 'age',\n",
       " 'NumberOfTimes90DaysLate',\n",
       " 'MonthlyIncome',\n",
       " 'NumberOfOpenCreditLinesAndLoans']"
      ]
     },
     "execution_count": 234,
     "metadata": {},
     "output_type": "execute_result"
    }
   ],
   "source": [
    "list(resp.keys())"
   ]
  },
  {
   "cell_type": "code",
   "execution_count": 238,
   "id": "7a30b0ed-2acf-4ab1-b2f7-0568593f3046",
   "metadata": {},
   "outputs": [],
   "source": [
    "resp = {\n",
    "        'RevolvingUtilizationOfUnsecuredLines': [1],\n",
    "        'NumberOfTime30-59DaysPastDueNotWorse': [1], \n",
    "        'NumberOfDependents': [1],\n",
    "        'DebtRatio': [1], \n",
    "        'NumberOfTime60-89DaysPastDueNotWorse': [1], \n",
    "        'age': [1],\n",
    "        'NumberOfTimes90DaysLate': [1], \n",
    "        'MonthlyIncome': [1],\n",
    "        'NumberOfOpenCreditLinesAndLoans': [1]\n",
    "        }\n",
    "data = pd.DataFrame.from_dict(resp)"
   ]
  },
  {
   "cell_type": "code",
   "execution_count": 240,
   "id": "24444302-39e5-40f6-bdb1-07df93615af9",
   "metadata": {},
   "outputs": [
    {
     "data": {
      "text/plain": [
       "1"
      ]
     },
     "execution_count": 240,
     "metadata": {},
     "output_type": "execute_result"
    }
   ],
   "source": [
    "model.predict(data)[0]"
   ]
  }
 ],
 "metadata": {
  "kernelspec": {
   "display_name": "Python 3 (ipykernel)",
   "language": "python",
   "name": "python3"
  },
  "language_info": {
   "codemirror_mode": {
    "name": "ipython",
    "version": 3
   },
   "file_extension": ".py",
   "mimetype": "text/x-python",
   "name": "python",
   "nbconvert_exporter": "python",
   "pygments_lexer": "ipython3",
   "version": "3.9.7"
  }
 },
 "nbformat": 4,
 "nbformat_minor": 5
}
